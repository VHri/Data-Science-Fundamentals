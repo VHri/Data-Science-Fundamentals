{
 "cells": [
  {
   "attachments": {},
   "cell_type": "markdown",
   "metadata": {},
   "source": [
    "# Worksheet 05\n",
    "\n",
    "Name: Hrishav Varma\n",
    "\n",
    "UID: U57996211\n",
    "\n",
    "\n",
    "### Topics\n",
    "\n",
    "- Cost Functions\n",
    "- Kmeans\n",
    "\n",
    "### Cost Function\n",
    "\n",
    "Solving Data Science problems often starts by defining a metric with which to evaluate solutions were you able to find some. This metric is called a cost function. Data Science then backtracks and tries to find a process / algorithm to find solutions that can optimize for that cost function.\n",
    "\n",
    "For example suppose you are asked to cluster three points A, B, C into two non-empty clusters. If someone gave you the solution `{A, B}, {C}`, how would you evaluate that this is a good solution?\n",
    "\n",
    "Notice that because the clusters need to be non-empty and all points must be assigned to a cluster, it must be that two of the three points will be together in one cluster and the third will be alone in the other cluster.\n",
    "\n",
    "In the above solution, if A and B are closer than A and C, and B and C, then this is a good solution. The smaller the distance between the two points in the same cluster (here A and B), the better the solution. So we can define our cost function to be that distance (between A and B here)!\n",
    "\n",
    "The algorithm / process would involve clustering together the two closest points and put the third in its own cluster. This process optimizes for that cost function because no other pair of points could have a lower distance (although it could equal it)."
   ]
  },
  {
   "cell_type": "markdown",
   "metadata": {},
   "source": [
    "### K means\n",
    "\n",
    "a) (1-dimensional clustering) Walk through Lloyd's algorithm step by step on the following dataset:\n",
    "\n",
    "`[0, .5, 1.5, 2, 6, 6.5, 7]` (note: each of these are 1-dimensional data points)\n",
    "\n",
    "Given the initial centroids:\n",
    "\n",
    "`[0, 2]`"
   ]
  },
  {
   "cell_type": "markdown",
   "metadata": {},
   "source": [
    "First calculating distance of each point from each centroid:\n",
    "\n",
    "### Iteration 1:\n",
    "\n",
    "- Point 0:    (0, 2)      -> Assigned Cluster 1\n",
    "- Point 0.5:  (0.5, 1.5)  -> Assigned Cluster 1\n",
    "- Point 1.5:  (1.5, 0.5)  -> Assigned Cluster 2\n",
    "- Point 2:    (2, 0)      -> Assigned Cluster 2\n",
    "- Point 6:    (6, 4)      -> Assigned Cluster 2\n",
    "- Point 6.5:  (6.5, 4.5)  -> Assigned Cluster 2\n",
    "- Point 7:    (7, 5)      -> Assigned Cluster 2\n",
    "\n",
    "With the assigned points, calculating new centroids:\n",
    "- Cluster 1: New Centroid (0, 0.5)/2          = 0.25\n",
    "- Cluster 2: New Centroid (1.5+2+6+6.5+7)/5   = 4.6\n",
    "\n",
    "\n",
    "### Iteration 2:\n",
    "\n",
    "- Point 0:    (0.25, 4.6) -> Assigned Cluster 1\n",
    "- Point 0.5:  (0.25, 4.1) -> Assigned Cluster 1\n",
    "- Point 1.5:  (1.25, 3.1) -> Assigned Cluster 1\n",
    "- Point 2:    (1.75, 2.6) -> Assigned Cluster 1\n",
    "- Point 6:    (5.75, 1.4) -> Assigned Cluster 2\n",
    "- Point 6.5:  (6.25, 1.9) -> Assigned Cluster 2\n",
    "- Point 7:    (6.75, 2.4) -> Assigned Cluster 2\n",
    "\n",
    "With the assigned points, calculating new centroids:\n",
    "- Cluster 1: New Centroid (0+0.5+1.5+2)/4 = 1\n",
    "- Cluster 2: New Centroid (6+6.5+7)/3 = 6.5\n",
    "\n",
    "### Iteration 3:\n",
    "\n",
    "- Point 0:    (1, 6.5)    -> Assigned Cluster 1\n",
    "- Point 0.5:  (0.5, 6)    -> Assigned Cluster 1\n",
    "- Point 1.5:  (0.5, 5)    -> Assigned Cluster 1\n",
    "- Point 2:    (1, 4.5)    -> Assigned Cluster 1\n",
    "- Point 6:    (5.5, 0.5)  -> Assigned Cluster 2\n",
    "- Point 6.5:  (5.5, 0)    -> Assigned Cluster 2\n",
    "- Point 7:    (6, 0.5)    -> Assigned Cluster 2\n",
    "\n",
    "Since the points did not change what cluster they belonged to, we have found the clustering we were looking for using Lloyd's algorithm.\n",
    "\n",
    "- Cluster 1: Centroid (1), Points: (0, 0.5, 1.5, 2)\n",
    "- Cluster 2: Centroid (6.5), Points: (6, 6.5, 7)"
   ]
  },
  {
   "cell_type": "markdown",
   "metadata": {},
   "source": [
    "b) Describe in plain english what the cost function for k means is."
   ]
  },
  {
   "cell_type": "markdown",
   "metadata": {},
   "source": [
    "The cost function for K-means finds the total squared distance between each data point and its cluster centroid. This distance is used as the function to minimize which then defines which cluster centroid the data point belongs to. This function is used to find the optimized clustering of the given data points."
   ]
  },
  {
   "cell_type": "markdown",
   "metadata": {},
   "source": [
    "c) For the same number of clusters K, why could there be very different solutions to the K means algorithm on a given dataset?"
   ]
  },
  {
   "cell_type": "markdown",
   "metadata": {},
   "source": [
    "For the same number of clusters K, there could be very different solutions to the k means algorithm on a given dataset because it would depend on the what initial centroids are taken as this could mean the algorithm converges to different local minimas of the cost function and not necessarily the global minima of the cost function. Similarly it could depend be upon the distribution of the data points aswell."
   ]
  },
  {
   "cell_type": "markdown",
   "metadata": {},
   "source": [
    "d) Does Lloyd's Algorithm always converge? Why / why not?"
   ]
  },
  {
   "cell_type": "markdown",
   "metadata": {},
   "source": [
    "Lloyd's algorithm always converges becaus it keeps decreasing the value of objective function but it may only converge to a local minimum and not necessarily always converge to a global minima."
   ]
  },
  {
   "attachments": {},
   "cell_type": "markdown",
   "metadata": {},
   "source": [
    "e) Follow along in class the implementation of Kmeans"
   ]
  },
  {
   "cell_type": "code",
   "execution_count": 1,
   "metadata": {},
   "outputs": [
    {
     "name": "stdout",
     "output_type": "stream",
     "text": [
      "[[ 1.20175677  1.1086792 ]\n",
      " [-3.52713792  1.62040555]\n",
      " [-1.72164425  1.93561193]\n",
      " [ 1.80582124 -4.04080901]]\n",
      "[[ 1.31365209  1.15532655]\n",
      " [-3.64201483  1.76599375]\n",
      " [-1.61784051  1.4953298 ]\n",
      " [ 1.80582124 -4.04080901]]\n",
      "[[ 1.52736903  1.33654705]\n",
      " [-3.66600698  1.81128047]\n",
      " [-1.4028886   1.04487039]\n",
      " [ 1.80582124 -4.04080901]]\n",
      "[[ 1.60238653  1.48000404]\n",
      " [-3.56347063  1.85617202]\n",
      " [-1.2179936   0.77382237]\n",
      " [ 1.82416454 -4.00058334]]\n",
      "[[ 1.71138506  1.5991525 ]\n",
      " [-3.32282706  1.90401737]\n",
      " [-0.84220978  0.4159547 ]\n",
      " [ 1.82416454 -4.00058334]]\n",
      "[[ 1.8391211   1.79153538]\n",
      " [-3.18218195  1.90395221]\n",
      " [-0.44322287  0.16160269]\n",
      " [ 1.84180743 -4.03258775]]\n",
      "[[ 1.90165131  1.93255625]\n",
      " [-3.12164037  1.85868514]\n",
      " [-0.18461573  0.10805748]\n",
      " [ 1.84180743 -4.03258775]]\n",
      "[[ 1.904406    1.98450725]\n",
      " [-3.07703402  1.85266958]\n",
      " [-0.03760357  0.01175879]\n",
      " [ 1.84585117 -4.10098602]]\n",
      "[[ 1.91248297  2.00204407]\n",
      " [-3.07703402  1.85266958]\n",
      " [-0.01886062  0.02039989]\n",
      " [ 1.84585117 -4.10098602]]\n",
      "[[ 1.91248297  2.00204407]\n",
      " [-3.07703402  1.85266958]\n",
      " [-0.01886062  0.02039989]\n",
      " [ 1.84585117 -4.10098602]]\n"
     ]
    }
   ],
   "source": [
    "import numpy as np\n",
    "from PIL import Image as im\n",
    "import matplotlib.pyplot as plt\n",
    "import sklearn.datasets as datasets\n",
    "\n",
    "centers = [[0, 0], [2, 2], [-3, 2], [2, -4]]\n",
    "X, _ = datasets.make_blobs(n_samples=300, centers=centers, cluster_std=1, random_state=0)\n",
    "\n",
    "class KMeans():\n",
    "\n",
    "    def __init__(self, data, k):\n",
    "        self.data = data\n",
    "        self.k = k\n",
    "        self.assignment = [-1 for _ in range(len(data))]\n",
    "        self.snaps = []\n",
    "    \n",
    "    def snap(self, centers):\n",
    "        TEMPFILE = \"temp.png\"\n",
    "\n",
    "        fig, ax = plt.subplots()\n",
    "        ax.scatter(X[:, 0], X[:, 1], c=self.assignment)\n",
    "        ax.scatter(centers[:,0], centers[:, 1], c='r')\n",
    "        fig.savefig(TEMPFILE)\n",
    "        plt.close()\n",
    "        self.snaps.append(im.fromarray(np.asarray(im.open(TEMPFILE))))\n",
    "        \n",
    "    def is_unassigned(self, i):\n",
    "        return self.assignment[i] == -1\n",
    "    \n",
    "    def unassign_all(self):\n",
    "        self.assignment = [-1 for _ in range(len(self.data))]\n",
    "        \n",
    "    def initialize(self):\n",
    "        return self.data[np.random.choice(range(len(self.data)), size=self.k, replace=False)]\n",
    "    \n",
    "    def are_centers_diff(self, c1, c2):\n",
    "        for i in range(len(c1)):\n",
    "            if c1[i] not in c2:\n",
    "                return True\n",
    "        return False\n",
    "    \n",
    "    def assign(self, centers):\n",
    "        for i in range(len(self.data)):\n",
    "            self.assignment[i] = 0\n",
    "            temp_assign = 0\n",
    "            temp_dist = self.dist(self.data[i], centers[0])\n",
    "            for j in range(1, len(centers)):\n",
    "                new_dist = self.dist(self.data[i], centers[j])\n",
    "                if temp_dist > new_dist:\n",
    "                    self.assignment[i] = j\n",
    "                    temp_dist = new_dist\n",
    "    \n",
    "    def calculate_new_centers(self):\n",
    "        centers = []\n",
    "        for j in range(self.k):\n",
    "            cluster_j = self.data[\n",
    "                np.array([i for i in range(len(self.data)) if self.assignment[i] == j])\n",
    "            ]\n",
    "            centers.append(np.mean(cluster_j,axis=0))\n",
    "        \n",
    "        return np.array(centers)\n",
    "\n",
    "    def dist(self, x, y):\n",
    "        return sum((x - y) ** 2) ** (1/2)\n",
    "\n",
    "    def lloyds(self):\n",
    "        centers = self.initialize()\n",
    "        self.assign(centers)\n",
    "        self.snap(centers)\n",
    "        new_centers = self.calculate_new_centers()\n",
    "        while self.are_centers_diff(centers, new_centers):\n",
    "            centers = new_centers\n",
    "            self.snap(centers)\n",
    "            self.unassign_all()\n",
    "            self.assign(centers)\n",
    "            new_centers = self.calculate_new_centers()\n",
    "            print (new_centers)\n",
    "        return\n",
    "            \n",
    "kmeans = KMeans(X, 4)\n",
    "kmeans.lloyds()\n",
    "images = kmeans.snaps\n",
    "\n",
    "images[0].save(\n",
    "    'kmeans.gif',\n",
    "    optimize=False,\n",
    "    save_all=True,\n",
    "    append_images=images[1:],\n",
    "    loop=0,\n",
    "    duration=500\n",
    ")"
   ]
  }
 ],
 "metadata": {
  "kernelspec": {
   "display_name": "Python 3",
   "language": "python",
   "name": "python3"
  },
  "language_info": {
   "codemirror_mode": {
    "name": "ipython",
    "version": 3
   },
   "file_extension": ".py",
   "mimetype": "text/x-python",
   "name": "python",
   "nbconvert_exporter": "python",
   "pygments_lexer": "ipython3",
   "version": "3.11.5"
  },
  "orig_nbformat": 4,
  "vscode": {
   "interpreter": {
    "hash": "76ca05dc3ea24b2e3b98cdb7774adfbb40773424bf5109b477fd793f623715af"
   }
  }
 },
 "nbformat": 4,
 "nbformat_minor": 2
}
