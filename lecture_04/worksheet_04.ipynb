{
 "cells": [
  {
   "attachments": {},
   "cell_type": "markdown",
   "metadata": {},
   "source": [
    "# Worksheet 04\n",
    "\n",
    "Name: Hrishav Varma\n",
    "\n",
    "UID: U57996211\n",
    "\n",
    "### Topics\n",
    "\n",
    "- Distance & Similarity"
   ]
  },
  {
   "cell_type": "markdown",
   "metadata": {},
   "source": [
    "### Distance & Similarity\n",
    "\n",
    "#### Part 1\n",
    "\n",
    "a) In the minkowski distance, describe what the parameters p and d are."
   ]
  },
  {
   "cell_type": "markdown",
   "metadata": {},
   "source": [
    "The parameter d represents the number of dimensions of space the points required to represent the given points x and y. For example, given x = [x1, x2, x3] and y = [y1, y2, y3] the dimension d would be 3. Hence, x and y are points in 3 dimensional space.\n",
    "\n",
    "The parameter p defines the order of the minkowski distance. This means that it is the degree of how much importance we are giving to the distance between the two points. So, the higher the p value, the more weightage is given to points with larger differences along the dimensions."
   ]
  },
  {
   "cell_type": "markdown",
   "metadata": {},
   "source": [
    "b) In your own words describe the difference between the Euclidean distance and the Manhattan distance."
   ]
  },
  {
   "cell_type": "markdown",
   "metadata": {},
   "source": [
    "The major difference between Euclidian distance and Manhattan distance is in how the distances are calculated between points in given space. Here, Euclidian distance measures the straight line path between the two points which is the shortest path, whereas the Manhattan distance measures the sum of the distances traveled along each of the dimensions."
   ]
  },
  {
   "attachments": {},
   "cell_type": "markdown",
   "metadata": {},
   "source": [
    "Consider A = (0, 0) and B = (1, 1). When:\n",
    "\n",
    "- p = 1, d(A, B) = 2\n",
    "- p = 2, d(A, B) = $\\sqrt{2} = 1.41$\n",
    "- p = 3, d(A, B) = $2^{1/3} = 1.26$\n",
    "- p = 4, d(A, B) = $2^{1/4} = 1.19$\n",
    "\n",
    "c) Describe what you think distance would look like when p is very large."
   ]
  },
  {
   "cell_type": "markdown",
   "metadata": {},
   "source": [
    "As p increases to very large values, the calculated distance would keep going down towards the value of 1 for the given points A and B. This is because as p reaches infinity, some value very close to 1 would equal 2 when raised to the power p."
   ]
  },
  {
   "cell_type": "markdown",
   "metadata": {},
   "source": [
    "d) Is the minkowski distance still a distance function when p < 1? Expain why / why not."
   ]
  },
  {
   "cell_type": "markdown",
   "metadata": {},
   "source": [
    "When p<1, the minkowski distance formula would then violate the inequality property. For example, let us take two points A=(0,0) and B=(1,1) and p<1, d(A,B) = 2^(1/p). Considering another point C=(2,0), it should still hold the traingle inequality. But d(A,B) + d(B,C) = 2*2^(1/p). Here can notice that traingle inequality is violated when p<1 which then makes it not a valid distance function."
   ]
  },
  {
   "cell_type": "markdown",
   "metadata": {},
   "source": [
    "e) when would you use cosine similarity over the euclidan distance?"
   ]
  },
  {
   "cell_type": "markdown",
   "metadata": {},
   "source": [
    "We could use cosine similarity over the euclidian distance when the direction of the two points matter more than the magnitude of distance between them."
   ]
  },
  {
   "cell_type": "markdown",
   "metadata": {},
   "source": [
    "f) what does the jaccard distance account for that the manhattan distance doesn't?"
   ]
  },
  {
   "cell_type": "markdown",
   "metadata": {},
   "source": [
    "Jaccard distance accounts for the size of the vectors aswell instead of just the distance between them according to manhattan distance. One example of such case is that where there are two sets of points A=(1,1,0), B=(1,0,1) and C=(1,0), D=(0,1). Here Manhattan distance between (A,B) and (C,D) are the same but jaccard distance would account for the size of the vectors aswell."
   ]
  },
  {
   "attachments": {},
   "cell_type": "markdown",
   "metadata": {},
   "source": [
    "#### Part 2\n",
    "\n",
    "Consider the following two sentences:"
   ]
  },
  {
   "cell_type": "code",
   "execution_count": 2,
   "metadata": {},
   "outputs": [],
   "source": [
    "s1 = \"hello my name is Alice\"  \n",
    "s2 = \"hello my name is Bob\""
   ]
  },
  {
   "cell_type": "markdown",
   "metadata": {},
   "source": [
    "using the union of words from both sentences, we can represent each sentence as a vector. Each element of the vector represents the presence or absence of the word at that index.\n",
    "\n",
    "In this example, the union of words is (\"hello\", \"my\", \"name\", \"is\", \"Alice\", \"Bob\") so we can represent the above sentences as such:"
   ]
  },
  {
   "cell_type": "code",
   "execution_count": 3,
   "metadata": {},
   "outputs": [],
   "source": [
    "v1 = [1,    1, 1,   1, 1,    0]\n",
    "#     hello my name is Alice\n",
    "v2 = [1,    1, 1,   1, 0, 1]\n",
    "#     hello my name is    Bob"
   ]
  },
  {
   "attachments": {},
   "cell_type": "markdown",
   "metadata": {},
   "source": [
    "Programmatically, we can do the following:"
   ]
  },
  {
   "cell_type": "code",
   "execution_count": 4,
   "metadata": {},
   "outputs": [
    {
     "name": "stdout",
     "output_type": "stream",
     "text": [
      "['Alice', 'hello', 'is', 'my', 'name', 'Bob']\n",
      "[1, 1, 1, 1, 1, 0]\n"
     ]
    }
   ],
   "source": [
    "corpus = [s1, s2]\n",
    "all_words = list(set([item for x in corpus for item in x.split()]))\n",
    "print(all_words)\n",
    "v1 = [1 if x in s1 else 0 for x in all_words]\n",
    "print(v1)"
   ]
  },
  {
   "cell_type": "markdown",
   "metadata": {},
   "source": [
    "Let's add a new sentence to our corpus:"
   ]
  },
  {
   "cell_type": "code",
   "execution_count": 5,
   "metadata": {},
   "outputs": [],
   "source": [
    "s3 = \"hi my name is Claude\"\n",
    "corpus.append(s3)"
   ]
  },
  {
   "cell_type": "markdown",
   "metadata": {},
   "source": [
    "a) What is the new union of words used to represent s1, s2, and s3?"
   ]
  },
  {
   "cell_type": "code",
   "execution_count": 6,
   "metadata": {},
   "outputs": [
    {
     "name": "stdout",
     "output_type": "stream",
     "text": [
      "['hi', 'Alice', 'hello', 'is', 'my', 'Claude', 'name', 'Bob']\n"
     ]
    }
   ],
   "source": [
    "new_all_words = list(set([item for x in corpus for item in x.split()]))\n",
    "print(new_all_words)"
   ]
  },
  {
   "attachments": {},
   "cell_type": "markdown",
   "metadata": {},
   "source": [
    "b) Represent s1, s2, and s3 as vectors as above, using this new set of words."
   ]
  },
  {
   "cell_type": "code",
   "execution_count": 11,
   "metadata": {},
   "outputs": [
    {
     "name": "stdout",
     "output_type": "stream",
     "text": [
      "v1: [0, 1, 1, 1, 1, 0, 1, 0]\n",
      "v2: [0, 0, 1, 1, 1, 0, 1, 1]\n",
      "v3: [1, 0, 0, 1, 1, 1, 1, 0]\n"
     ]
    }
   ],
   "source": [
    "v1 = [1 if x in s1 else 0 for x in new_all_words]\n",
    "print('v1:', v1)\n",
    "v2 = [1 if x in s2 else 0 for x in new_all_words]\n",
    "print('v2:', v2)\n",
    "v3 = [1 if x in s3 else 0 for x in new_all_words]\n",
    "print('v3:', v3)"
   ]
  },
  {
   "cell_type": "markdown",
   "metadata": {},
   "source": [
    "c) Write a function that computes the manhattan distance between two vectors. Which pair of vectors are the most similar under that distance function?"
   ]
  },
  {
   "cell_type": "code",
   "execution_count": 18,
   "metadata": {},
   "outputs": [
    {
     "name": "stdout",
     "output_type": "stream",
     "text": [
      "d(v1, v2): 2\n",
      "d(v2, v3): 4\n",
      "d(v1, v3): 4\n"
     ]
    }
   ],
   "source": [
    "def calculate_manhattan_distance(vector1, vector2):\n",
    "    return sum([abs(weight2-weight1) for weight1, weight2 in zip(vector1, vector2)])\n",
    "\n",
    "print(\"d(v1, v2):\", calculate_manhattan_distance(v1, v2))\n",
    "print(\"d(v2, v3):\", calculate_manhattan_distance(v2, v3))\n",
    "print(\"d(v1, v3):\", calculate_manhattan_distance(v1, v3))"
   ]
  },
  {
   "cell_type": "markdown",
   "metadata": {},
   "source": [
    "The vectors v1 and v2 are most similar under the distance function as their manhattan distance comes out to be 2 which is the lowest among the 3 pairs."
   ]
  },
  {
   "cell_type": "markdown",
   "metadata": {},
   "source": [
    "d) Create a matrix of all these vectors (row major) and add the following sentences in vector form:\n",
    "\n",
    "- \"hi Alice\"\n",
    "- \"hello Claude\"\n",
    "- \"Bob my name is Claude\"\n",
    "- \"hi Claude my name is Alice\"\n",
    "- \"hello Bob\""
   ]
  },
  {
   "cell_type": "code",
   "execution_count": 20,
   "metadata": {},
   "outputs": [
    {
     "name": "stdout",
     "output_type": "stream",
     "text": [
      "Matrix of vectors of all the sentences in the corpus:\n",
      " [[0, 1, 1, 1, 1, 0, 1, 0], [0, 0, 1, 1, 1, 0, 1, 1], [1, 0, 0, 1, 1, 1, 1, 0], [1, 1, 0, 0, 0, 0, 0, 0], [0, 0, 1, 0, 0, 1, 0, 0], [0, 0, 0, 1, 1, 1, 1, 1], [1, 1, 0, 1, 1, 1, 1, 0], [0, 0, 1, 0, 0, 0, 0, 1]]\n"
     ]
    }
   ],
   "source": [
    "corpus.extend([\n",
    "    \"hi Alice\",\n",
    "    \"hello Claude\",\n",
    "    \"Bob my name is Claude\",\n",
    "    \"hi Claude my name is Alice\",\n",
    "    \"hello Bob\"\n",
    "])\n",
    "all_words_set = list(set([item for x in corpus for item in x.split()]))\n",
    "\n",
    "vector_matrix = []\n",
    "for s in corpus:\n",
    "    vector_matrix.append([1 if x in s else 0 for x in new_all_words])\n",
    "\n",
    "print(\"Matrix of vectors of all the sentences in the corpus:\\n\", vector_matrix)"
   ]
  },
  {
   "cell_type": "markdown",
   "metadata": {},
   "source": [
    "e) How many rows and columns does this matrix have?"
   ]
  },
  {
   "cell_type": "code",
   "execution_count": 21,
   "metadata": {},
   "outputs": [
    {
     "name": "stdout",
     "output_type": "stream",
     "text": [
      "Rows: 8 \n",
      "Columns: 8\n"
     ]
    }
   ],
   "source": [
    "print(\"Rows:\", len(vector_matrix), '\\nColumns:', len(vector_matrix[0]))"
   ]
  },
  {
   "attachments": {},
   "cell_type": "markdown",
   "metadata": {},
   "source": [
    "f) When using the Manhattan distance, which two sentences are the most similar?"
   ]
  },
  {
   "cell_type": "code",
   "execution_count": 32,
   "metadata": {},
   "outputs": [
    {
     "name": "stdout",
     "output_type": "stream",
     "text": [
      "Most Similar Sentences with Manhattan distance = 1:\n",
      "\"hi my name is Claude\" (Vector form: [1, 0, 0, 1, 1, 1, 1, 0]) and\n",
      "\"hi Claude my name is Alice\" (Vector form: [1, 1, 0, 1, 1, 1, 1, 0])\n"
     ]
    }
   ],
   "source": [
    "sentence_distances = []\n",
    "for i1 in range(len(vector_matrix)):\n",
    "    for i2 in range(len(vector_matrix)):\n",
    "        if i1<i2:\n",
    "            sentence_distances.append([i1, i2, calculate_manhattan_distance(vector_matrix[i1], vector_matrix[i2])])\n",
    "\n",
    "index1, index2, distance = min(sentence_distances, key=lambda x: x[2])\n",
    "print(f\"Most Similar Sentences with Manhattan distance = {distance}:\\n\\\n",
    "\\\"{corpus[index1]}\\\" (Vector form: {vector_matrix[index1]}) and\\n\\\n",
    "\\\"{corpus[index2]}\\\" (Vector form: {vector_matrix[index2]})\")"
   ]
  },
  {
   "cell_type": "markdown",
   "metadata": {},
   "source": [
    "#### Part 3 Challenge"
   ]
  },
  {
   "cell_type": "markdown",
   "metadata": {},
   "source": [
    "Given a set of graphs $\\mathcal{G}$, each graph $G \\in \\mathcal{G}$ is defined over the same set of nodes $V$. The graphs are represented by their adjacency matrices, which are 2D arrays where each element indicates whether a pair of nodes is connected by an edge.\n",
    "\n",
    "Your task is to compute the pairwise distances between these graphs based on a specific distance metric. The distance $d(G, G')$ between two graphs $G = (V, E)$ and $G' = (V, E')$ is defined as the sum of the number of edges in $G$ but not in $G'$, and the number of edges in $G'$ but not in $G$. Mathematically, this can be expressed as:\n",
    "\n",
    "$$\n",
    "d(G, G') = |E \\setminus E'| + |E' \\setminus E|.\n",
    "$$\n",
    "\n",
    "##### Requirements:\n",
    "1. **Input**: Should take a list of 2D numpy arrays as input. Each array represents the adjacency matrix of a graph.\n",
    "\n",
    "2. **Output**: Should output a pairwise distance matrix. If there are $n$ graphs in the input list, the output should be an $n \\times n$ matrix where the entry at position $(i, j)$ represents the distance between the $i^{th}$ and $j^{th}$ graph."
   ]
  },
  {
   "cell_type": "code",
   "execution_count": 70,
   "metadata": {},
   "outputs": [
    {
     "name": "stdout",
     "output_type": "stream",
     "text": [
      "[array([[0, 0, 0, 0, 0, 0],\n",
      "       [0, 0, 0, 0, 1, 1],\n",
      "       [0, 0, 0, 1, 0, 1],\n",
      "       [0, 0, 1, 0, 1, 0],\n",
      "       [0, 1, 0, 1, 0, 0],\n",
      "       [0, 1, 1, 0, 0, 0]]), array([[0, 1, 0, 0, 0, 0],\n",
      "       [1, 0, 0, 0, 0, 0],\n",
      "       [0, 0, 0, 0, 1, 1],\n",
      "       [0, 0, 0, 0, 0, 0],\n",
      "       [0, 0, 1, 0, 0, 1],\n",
      "       [0, 0, 1, 0, 1, 0]]), array([[0, 1, 1, 0, 0, 1],\n",
      "       [1, 0, 0, 1, 0, 0],\n",
      "       [1, 0, 0, 0, 1, 1],\n",
      "       [0, 1, 0, 0, 0, 0],\n",
      "       [0, 0, 1, 0, 0, 0],\n",
      "       [1, 0, 1, 0, 0, 0]]), array([[0, 1, 1, 0, 0, 1],\n",
      "       [1, 0, 1, 0, 0, 0],\n",
      "       [1, 1, 0, 0, 1, 1],\n",
      "       [0, 0, 0, 0, 0, 1],\n",
      "       [0, 0, 1, 0, 0, 1],\n",
      "       [1, 0, 1, 1, 1, 0]]), array([[0, 0, 1, 0, 0, 1],\n",
      "       [0, 0, 1, 0, 1, 0],\n",
      "       [1, 1, 0, 0, 0, 1],\n",
      "       [0, 0, 0, 0, 1, 1],\n",
      "       [0, 1, 0, 1, 0, 1],\n",
      "       [1, 0, 1, 1, 1, 0]])]\n"
     ]
    }
   ],
   "source": [
    "import numpy as np\n",
    "graph_count = 5\n",
    "graph_node_count = 6\n",
    "graph_list = []\n",
    "\n",
    "for _ in range(graph_count):\n",
    "    upper = np.triu(np.random.randint(2, size=(graph_node_count, graph_node_count)), k=1)\n",
    "    graph_list.append(upper + upper.T)\n",
    "print(graph_list)"
   ]
  },
  {
   "cell_type": "code",
   "execution_count": 71,
   "metadata": {},
   "outputs": [],
   "source": [
    "def calculate_graph_distance(graph1, graph2):\n",
    "    \"returns sum of edges where each edge is in one graph and not in the other graph as per question\"\n",
    "    distance = 0\n",
    "    for i in range(len(graph1)):\n",
    "        for j in range(i+1, len(graph2)):\n",
    "            # increase distance if an edge is in one of the graph and not in the other\n",
    "            if ((graph1[i][j] and not graph2[i][j]) or (graph2[i][j] and not graph1[i][j])):\n",
    "                    distance+=1\n",
    "    return distance\n",
    "\n",
    "# Test Cases\n",
    "# print(calculate_graph_distance(graph_list[0], graph_list[1]))\n",
    "# print(calculate_graph_distance(graph_list[1], graph_list[0]))\n",
    "# print(calculate_graph_distance(graph_list[1], graph_list[1]))"
   ]
  },
  {
   "cell_type": "code",
   "execution_count": 72,
   "metadata": {},
   "outputs": [
    {
     "data": {
      "text/plain": [
       "array([[ 0,  7,  9, 11,  7],\n",
       "       [ 7,  0,  4,  4,  8],\n",
       "       [ 9,  4,  0,  4,  8],\n",
       "       [11,  4,  4,  0,  4],\n",
       "       [ 7,  8,  8,  4,  0]])"
      ]
     },
     "execution_count": 72,
     "metadata": {},
     "output_type": "execute_result"
    }
   ],
   "source": [
    "def calculate_graph_distance_matrix(graphs):\n",
    "    distances = np.zeros((len(graphs), len(graphs)), dtype=int)\n",
    "    for i in range(len(graphs)):\n",
    "        for j in range(i+1, len(graphs)):\n",
    "            distances[i][j] = calculate_graph_distance(graphs[i], graphs[j])\n",
    "    return distances + distances.T\n",
    "\n",
    "calculate_graph_distance_matrix(graph_list)"
   ]
  }
 ],
 "metadata": {
  "kernelspec": {
   "display_name": "Python 3",
   "language": "python",
   "name": "python3"
  },
  "language_info": {
   "codemirror_mode": {
    "name": "ipython",
    "version": 3
   },
   "file_extension": ".py",
   "mimetype": "text/x-python",
   "name": "python",
   "nbconvert_exporter": "python",
   "pygments_lexer": "ipython3",
   "version": "3.11.5"
  },
  "orig_nbformat": 4,
  "vscode": {
   "interpreter": {
    "hash": "76ca05dc3ea24b2e3b98cdb7774adfbb40773424bf5109b477fd793f623715af"
   }
  }
 },
 "nbformat": 4,
 "nbformat_minor": 2
}
