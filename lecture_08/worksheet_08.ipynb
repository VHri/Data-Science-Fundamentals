{
 "cells": [
  {
   "attachments": {},
   "cell_type": "markdown",
   "metadata": {},
   "source": [
    "# Worksheet 08\n",
    "\n",
    "Name: Hrishav Varma\n",
    "\n",
    "UID: U57996211\n",
    "\n",
    "Name: Pranav Goyanka\n",
    "\n",
    "UID: U18853014\n",
    "\n",
    "Name: Ria Singh\n",
    "\n",
    "UID: U21576658\n",
    "\n",
    "Name: Arunesh Kumar Lal\n",
    "\n",
    "UID: U26502933\n",
    "\n",
    "### Topics\n",
    "\n",
    "- Soft Clustering\n",
    "- Clustering Aggregation\n",
    "\n",
    "### Probability Review\n",
    "\n",
    "Read through [the following](https://medium.com/@gallettilance/overview-of-probability-3272b72c82c8)\n",
    "\n",
    "### Soft Clustering\n",
    "\n",
    "We generate 10 data points that come from a normal distribution with mean 5 and variance 1."
   ]
  },
  {
   "cell_type": "code",
   "execution_count": 5,
   "metadata": {},
   "outputs": [
    {
     "name": "stdout",
     "output_type": "stream",
     "text": [
      "[3.841649628994645, 3.228024223416951, 6.066701878363244, 4.966602747765088, 4.288077406404906, 5.794438289184546, 5.244398133478467, 5.556338340511157, 3.770882210174829, 3.360214925559835, 3.394981880844054, 6.358467358139837, 4.561019704954045, 4.337015645663776, 5.237246884769074, 6.133258179455291, 6.321694111679883, 4.9007855289118565, 6.22879069760369, 3.746323152281442, 2.82954275089205, 3.621973594255533, 6.090039908677523, 4.575655532154844, 5.681017611464865, 5.078946693511618, 4.569514062651535, 5.568762575771283, 3.9401771142045856, 3.3686549126588377, 4.85385762987799, 5.828355439394061, 6.120262454525529, 4.840539670904647, 4.8557994313358215, 5.125686643016508, 4.121469827630601, 6.272690313948891, 5.49146237739438, 6.794782987028625, 5.229377016390722, 2.649352074762732, 5.012044448571228, 5.007750148679927, 3.7994489963203426, 3.8805840257319124, 5.280160622028523, 4.188573005842749, 3.5878078667544324, 4.090835232039542, 2.873730643440784, 5.842588374396745, 5.658932677051423, 5.331077169913594, 6.252428001689026, 4.14398459934189, 4.980967288350584, 3.6880443481421405, 4.052442573668673, 3.8182401845734146, 6.133591934404736, 4.415650407141938, 5.598164816293584, 3.477753592630534, 6.078834996119938, 4.373842524325089, 5.434350462248664, 5.803061017916445, 4.275863044881311, 5.847091570472923, 4.299048660038744, 2.6922668515728034, 5.623429321585804, 5.045938354467871, 5.5960368311673205, 5.45183261720178, 4.483034223012179, 3.405944760815888, 3.982233900784573, 4.925908674524093, 5.698800952040968, 4.447401550294304, 5.0765445720656075, 4.207788502347883, 6.967795543812508, 7.023982936417898, 7.002448483132865, 4.9428743712621, 5.008161926004718, 4.827366728266469, 5.522786381793882, 5.674315012105999, 3.657563663495817, 6.952464923466243, 3.9430787911063367, 4.645290793788522, 4.247330014926426, 5.454846839996273, 5.7182896506552305, 4.513929484327213]\n"
     ]
    }
   ],
   "source": [
    "import random\n",
    "import numpy as np\n",
    "from sklearn.cluster import KMeans\n",
    "\n",
    "mean = 5\n",
    "stdev = 1\n",
    "\n",
    "s1 = np.random.normal(mean, stdev, 100).tolist()\n",
    "print(s1)"
   ]
  },
  {
   "cell_type": "markdown",
   "metadata": {},
   "source": [
    "a) Generate 10 more data points, this time coming from a normal distribution with mean 8 and variance 1."
   ]
  },
  {
   "cell_type": "code",
   "execution_count": 6,
   "metadata": {},
   "outputs": [
    {
     "name": "stdout",
     "output_type": "stream",
     "text": [
      "[8.565500626656728, 8.066948855993829, 9.060688061743665, 8.112362686644728, 9.073754895800134, 7.070526370637727, 6.01936423800878, 9.46918099693231, 8.048091425907593, 9.578771389054442, 8.282194227514655, 9.376495201289398, 8.433240919378381, 11.76777640337, 8.331544165350927, 8.080843678530279, 7.0025809217512505, 7.217039383800039, 10.108508197991139, 6.84217595084826, 8.687488427295204, 7.0698249394609345, 5.40722443656146, 8.506446789738048, 7.469294078076056, 7.724922948030184, 7.608870561514341, 8.645198925910183, 6.365660566757465, 7.802878191740523, 7.269022802822918, 8.503202302055042, 6.85307228451239, 8.700994470956722, 8.038935538019299, 8.865438444523798, 7.286264096699742, 7.581601236547205, 7.340735952012336, 7.461568949906645, 7.636891205380662, 8.832770780101283, 9.416457410890219, 10.37112206535507, 6.651990792942947, 8.644854413202712, 8.627235282562028, 8.08661084273047, 7.499812393758805, 6.757204914957504, 6.701774899953648, 7.101611466930759, 7.775184862632535, 7.297856057716511, 7.07265034840762, 7.254470890302366, 5.69940029203587, 7.086327823403819, 8.880703604628913, 7.359970279670483, 9.528050990827786, 10.042692801953226, 10.073570074068908, 7.0724808142098174, 7.425804602578377, 9.14048638400288, 6.656516683307073, 8.638019313843731, 9.317297385555024, 8.776726183040633, 6.839925818041982, 10.175103673127305, 7.5594797752718605, 8.434184799469122, 7.118259623831848, 8.465812999578105, 6.80808895153771, 8.025492530584367, 8.534625269391334, 7.816837099859974, 7.115527360922128, 7.7368227533281795, 6.115119051179811, 9.50582729664097, 8.298281566093118, 7.974285941624337, 6.940297512392316, 8.148172213851272, 8.523842384120668, 6.89902772856488, 7.416841194481262, 7.888028910981008, 7.637388975076803, 7.9393048460579685, 8.390433670435346, 7.713866038681299, 9.731644066493903, 8.799415015637624, 8.102050824639907, 8.007933198752372]\n"
     ]
    }
   ],
   "source": [
    "s2 = np.random.normal( 8 ,1, 100 ).tolist()\n",
    "print(s2)"
   ]
  },
  {
   "cell_type": "markdown",
   "metadata": {},
   "source": [
    "b) Flip a fair coin 10 times. If the coin lands on H, then pick the last data point of `c1` and remove it from `c1`, if T then pick the last data point from `c2` and remove it from `c2`. Add these 10 points to a list called `data`."
   ]
  },
  {
   "cell_type": "code",
   "execution_count": 7,
   "metadata": {},
   "outputs": [
    {
     "name": "stdout",
     "output_type": "stream",
     "text": [
      "[8.007933198752372, 4.513929484327213, 8.102050824639907, 8.799415015637624, 9.731644066493903, 5.7182896506552305, 5.454846839996273, 4.247330014926426, 7.713866038681299, 8.390433670435346, 7.9393048460579685, 4.645290793788522, 7.637388975076803, 3.9430787911063367, 7.888028910981008, 7.416841194481262, 6.89902772856488, 8.523842384120668, 6.952464923466243, 3.657563663495817]\n"
     ]
    }
   ],
   "source": [
    "data = []\n",
    "for i in range(20):\n",
    "    # flip coin\n",
    "    coin_output = random.choice([0, 1])\n",
    "    if coin_output == 0:\n",
    "        p1 = s1.pop()\n",
    "        data.append(p1)\n",
    "    else:\n",
    "        p2 = s2.pop()\n",
    "        data.append(p2)\n",
    "print(data)"
   ]
  },
  {
   "cell_type": "markdown",
   "metadata": {},
   "source": [
    "c) This `data` is a Gaussian Mixture Distribution with 2 mixture components. Over the next few questions we will walk through the GMM algorithm to see if we can uncover the parameters we used to generate this data. First, please list all these parameters of the GMM that created `data` and the values we know they have."
   ]
  },
  {
   "cell_type": "markdown",
   "metadata": {},
   "source": [
    "mean and variance of the two datasets s1 and s2 and the probability of making a choice for each point which is 0.5 as we are flipping a coin."
   ]
  },
  {
   "cell_type": "markdown",
   "metadata": {},
   "source": [
    "d) Let's assume there are two mixture components (note: we could plot the data and make the observation that there are two clusters). The EM algorithm asks us to start with a random `mean_j`, `variance_j`, `P(S_j)` for each component j. One method we could use to find sensible values for these is to apply K means with k=2 here.\n",
    "\n",
    "1. the centroids would be the estimates of the `mean_j`\n",
    "2. the intra-cluster variance could be the estimate of `variance_j`\n",
    "3. the proportion of points in each cluster could be the estimate of `P(S_j)`\n",
    "\n",
    "Go through this process and list the parameter estimates it gives. Are they close or far from the true values?"
   ]
  },
  {
   "cell_type": "code",
   "execution_count": 8,
   "metadata": {},
   "outputs": [
    {
     "name": "stdout",
     "output_type": "stream",
     "text": [
      "[4.513929484327213, 5.7182896506552305, 5.454846839996273, 4.247330014926426, 4.645290793788522, 3.9430787911063367, 3.657563663495817]\n",
      "[8.007933198752372, 8.102050824639907, 8.799415015637624, 9.731644066493903, 7.713866038681299, 8.390433670435346, 7.9393048460579685, 7.637388975076803, 7.888028910981008, 7.416841194481262, 6.89902772856488, 8.523842384120668, 6.952464923466243]\n",
      "P(S_1) = 0.35,  P(S_2) = 0.65\n",
      "mean_1 = 4.597189891185117,  mean_2 = 8.00017244441456\n",
      "var_1 = 0.49069240239043677,  var_2 = 12.115221523101441\n"
     ]
    }
   ],
   "source": [
    "kmeans = KMeans(2, init='k-means++').fit(X=np.array(data).reshape(-1, 1))\n",
    "\n",
    "s1 = [x[0] for x in filter(lambda x: x[1] == 0, zip(data, kmeans.labels_))]\n",
    "print(s1)\n",
    "s2 = [x[0] for x in filter(lambda x: x[1] == 1, zip(data, kmeans.labels_))]\n",
    "print(s2)\n",
    "\n",
    "prob_s = [ len(s1) / (len(s1) + len(s2)) , len(s2) / (len(s1) + len(s2)) ]\n",
    "mean = [ sum(s1)/len(s1) , sum(s2)/len(s2) ]\n",
    "var = [ sum(map(lambda x : (x - mean[0])**2, s1)) / len(s1) , sum(map(lambda x : (x - mean[0])**2, s2)) / len(s2) ]\n",
    "\n",
    "print(\"P(S_1) = \" + str(prob_s[0]) + \",  P(S_2) = \" + str(prob_s[1]))\n",
    "print(\"mean_1 = \" + str(mean[0]) + \",  mean_2 = \" + str(mean[1]))\n",
    "print(\"var_1 = \" + str(var[0]) + \",  var_2 = \" + str(var[1]))"
   ]
  },
  {
   "cell_type": "markdown",
   "metadata": {},
   "source": [
    "The means are kind of close to the original values but probabilities are kind of off from the original value."
   ]
  },
  {
   "cell_type": "markdown",
   "metadata": {},
   "source": [
    "e) For each data point, compute `P(S_j | X_i)`. Comment on which cluster you think each point belongs to based on the estimated probabilities. How does that compare to the truth?"
   ]
  },
  {
   "cell_type": "code",
   "execution_count": 15,
   "metadata": {},
   "outputs": [
    {
     "name": "stdout",
     "output_type": "stream",
     "text": [
      "point =  8.007933198752372\n",
      "probability of observing that point if it came from cluster 0 =  8.831363567214376e-17\n",
      "probability of observing that point if it came from cluster 1 =  0.27019855565638456\n",
      "point =  4.513929484327213\n",
      "probability of observing that point if it came from cluster 0 =  0.9857260235542437\n",
      "probability of observing that point if it came from cluster 1 =  0.02443163975740614\n",
      "point =  8.102050824639907\n",
      "probability of observing that point if it came from cluster 0 =  1.161818969902294e-17\n",
      "probability of observing that point if it came from cluster 1 =  0.2657437505022971\n",
      "point =  8.799415015637624\n",
      "probability of observing that point if it came from cluster 0 =  6.38222384560242e-25\n",
      "probability of observing that point if it came from cluster 1 =  0.20569085467525355\n",
      "point =  9.731644066493903\n",
      "probability of observing that point if it came from cluster 0 =  1.2066748459948803e-36\n",
      "probability of observing that point if it came from cluster 1 =  0.10128554705783524\n",
      "point =  5.7182896506552305\n",
      "probability of observing that point if it came from cluster 0 =  0.013347183186434209\n",
      "probability of observing that point if it came from cluster 1 =  0.10870471973762444\n",
      "point =  5.454846839996273\n",
      "probability of observing that point if it came from cluster 0 =  0.07300669915118735\n",
      "probability of observing that point if it came from cluster 1 =  0.08324834086995563\n",
      "point =  4.247330014926426\n",
      "probability of observing that point if it came from cluster 0 =  0.7698281899762791\n",
      "probability of observing that point if it came from cluster 1 =  0.015973953431059344\n",
      "point =  7.713866038681299\n",
      "probability of observing that point if it came from cluster 0 =  3.521219304628701e-14\n",
      "probability of observing that point if it came from cluster 1 =  0.27688379429726834\n",
      "point =  8.390433670435346\n",
      "probability of observing that point if it came from cluster 0 =  1.6576787809270617e-20\n",
      "probability of observing that point if it came from cluster 1 =  0.2459229120593953\n",
      "point =  7.9393048460579685\n",
      "probability of observing that point if it came from cluster 0 =  3.7455396863135943e-16\n",
      "probability of observing that point if it came from cluster 1 =  0.2727589535258288\n",
      "point =  4.645290793788522\n",
      "probability of observing that point if it came from cluster 0 =  0.9488808451526164\n",
      "probability of observing that point if it came from cluster 1 =  0.029744804887965798\n",
      "point =  7.637388975076803\n",
      "probability of observing that point if it came from cluster 0 =  1.532479192405709e-13\n",
      "probability of observing that point if it came from cluster 1 =  0.27675338481683676\n",
      "point =  3.9430787911063367\n",
      "probability of observing that point if it came from cluster 0 =  0.3413081869528061\n",
      "probability of observing that point if it came from cluster 1 =  0.009432720145290478\n",
      "point =  7.888028910981008\n",
      "probability of observing that point if it came from cluster 0 =  1.0818724544655638e-15\n",
      "probability of observing that point if it came from cluster 1 =  0.274281207313362\n",
      "point =  7.416841194481262\n",
      "probability of observing that point if it came from cluster 0 =  8.715390534177085e-12\n",
      "probability of observing that point if it came from cluster 1 =  0.2720499567674597\n",
      "point =  6.89902772856488\n",
      "probability of observing that point if it came from cluster 0 =  3.569569235135461e-08\n",
      "probability of observing that point if it came from cluster 1 =  0.23832316564416117\n",
      "point =  8.523842384120668\n",
      "probability of observing that point if it came from cluster 0 =  6.734876498339244e-22\n",
      "probability of observing that point if it came from cluster 1 =  0.23406579354281373\n",
      "point =  6.952464923466243\n",
      "probability of observing that point if it came from cluster 0 =  1.6322854459708014e-08\n",
      "probability of observing that point if it came from cluster 1 =  0.24304951347324594\n",
      "point =  3.657563663495817\n",
      "probability of observing that point if it came from cluster 0 =  0.09505274940806122\n",
      "probability of observing that point if it came from cluster 1 =  0.005524983743550765\n",
      "8.007933198752372\n",
      "Probability of coming from S_0 = 1.7599463481821418e-16\n",
      "Probability of coming from S_1 = 0.9999999999999999\n",
      "\n",
      "4.513929484327213\n",
      "Probability of coming from S_0 = 0.9559954551062025\n",
      "Probability of coming from S_1 = 0.04400454489379738\n",
      "\n",
      "8.102050824639907\n",
      "Probability of coming from S_0 = 2.3541280980828986e-17\n",
      "Probability of coming from S_1 = 1.0\n",
      "\n",
      "8.799415015637624\n",
      "Probability of coming from S_0 = 1.6707510288363087e-24\n",
      "Probability of coming from S_1 = 1.0\n",
      "\n",
      "9.731644066493903\n",
      "Probability of coming from S_0 = 6.415011942683485e-36\n",
      "Probability of coming from S_1 = 1.0\n",
      "\n",
      "5.7182896506552305\n",
      "Probability of coming from S_0 = 0.06201433745750611\n",
      "Probability of coming from S_1 = 0.9379856625424938\n",
      "\n",
      "5.454846839996273\n",
      "Probability of coming from S_0 = 0.3207524060164301\n",
      "Probability of coming from S_1 = 0.6792475939835698\n",
      "\n",
      "4.247330014926426\n",
      "Probability of coming from S_0 = 0.9628941434523605\n",
      "Probability of coming from S_1 = 0.037105856547639454\n",
      "\n",
      "7.713866038681299\n",
      "Probability of coming from S_0 = 6.847786699986779e-14\n",
      "Probability of coming from S_1 = 0.9999999999999315\n",
      "\n",
      "8.390433670435346\n",
      "Probability of coming from S_0 = 3.629577493118873e-20\n",
      "Probability of coming from S_1 = 1.0\n",
      "\n",
      "7.9393048460579685\n",
      "Probability of coming from S_0 = 7.394180963779733e-16\n",
      "Probability of coming from S_1 = 0.9999999999999992\n",
      "\n",
      "4.645290793788522\n",
      "Probability of coming from S_0 = 0.9449863700766146\n",
      "Probability of coming from S_1 = 0.05501362992338553\n",
      "\n",
      "7.637388975076803\n",
      "Probability of coming from S_0 = 2.9816477372045736e-13\n",
      "Probability of coming from S_1 = 0.9999999999997019\n",
      "\n",
      "3.9430787911063367\n",
      "Probability of coming from S_0 = 0.9511799474826721\n",
      "Probability of coming from S_1 = 0.048820052517327926\n",
      "\n",
      "7.888028910981008\n",
      "Probability of coming from S_0 = 2.1239030991472065e-15\n",
      "Probability of coming from S_1 = 0.9999999999999978\n",
      "\n",
      "7.416841194481262\n",
      "Probability of coming from S_0 = 1.725015012318684e-11\n",
      "Probability of coming from S_1 = 0.9999999999827498\n",
      "\n",
      "6.89902772856488\n",
      "Probability of coming from S_0 = 8.064996878442391e-08\n",
      "Probability of coming from S_1 = 0.9999999193500312\n",
      "\n",
      "8.523842384120668\n",
      "Probability of coming from S_0 = 1.5493387161592571e-21\n",
      "Probability of coming from S_1 = 1.0\n",
      "\n",
      "6.952464923466243\n",
      "Probability of coming from S_0 = 3.616229829477488e-08\n",
      "Probability of coming from S_1 = 0.9999999638377016\n",
      "\n",
      "3.657563663495817\n",
      "Probability of coming from S_0 = 0.902570035428089\n",
      "Probability of coming from S_1 = 0.09742996457191103\n",
      "\n"
     ]
    }
   ],
   "source": [
    "from scipy.stats import norm\n",
    "\n",
    "prob_s0_x = []  # P(S_0 | X_i)\n",
    "prob_s1_x = []  # P(S_1 | X_i)\n",
    "prob_x = []    # P(X_i)\n",
    "\n",
    "k = 2\n",
    "\n",
    "for p in data:\n",
    "    print(\"point = \", p)\n",
    "    pdf_i = []\n",
    "\n",
    "    for j in range(k):\n",
    "        # P(X_i | S_j)\n",
    "        pdf_i.append(norm.pdf(p, mean[j], var[j]))\n",
    "        print(\"probability of observing that point if it came from cluster \" + str(j) + \" = \", pdf_i[j])\n",
    "\n",
    "    # P(X_i) = P(S_0)P(X_i | S_0) + P(S_1)P(X_i | S_1)\n",
    "    prob_x_i = prob_s[0] * pdf_i[0] + prob_s[1] * pdf_i[1]\n",
    "\n",
    "    # P(S_0 | X_i) = P(X_i | S_0)P(S_0) / P(X_i)\n",
    "    prob_s0_x_i = (pdf_i[0] * prob_s[0]) / prob_x_i\n",
    "    prob_s0_x.append(prob_s0_x_i)\n",
    "\n",
    "    # P(S_1 | X_i) = P(X_i | S_1)P(S_1) / P(X_i)\n",
    "    prob_s1_x_i = (pdf_i[1] * prob_s[1]) / prob_x_i\n",
    "    prob_s1_x.append(prob_s1_x_i)\n",
    "\n",
    "probs = zip(data, prob_s0_x, prob_s1_x)\n",
    "for p in probs:\n",
    "    print(p[0])\n",
    "    print(\"Probability of coming from S_0 = \" + str(p[1]))\n",
    "    print(\"Probability of coming from S_1 = \" + str(p[2]))\n",
    "    print()\n"
   ]
  },
  {
   "cell_type": "markdown",
   "metadata": {},
   "source": [
    "f) Having computed `P(S_j | X_i)`, update the estimates of `mean_j`, `var_j`, and `P(S_j)`. How different are these values from the original ones you got from K means? briefly comment."
   ]
  },
  {
   "cell_type": "code",
   "execution_count": 17,
   "metadata": {},
   "outputs": [
    {
     "name": "stdout",
     "output_type": "stream",
     "text": [
      "P(S_1) = 0.25501964059248805,  P(S_2) = 0.744980359407512\n",
      "mean_1 = 4.303750594608918,  mean_2 = 7.666762685515426\n",
      "var_1 = 0.23630099955664327,  var_2 = 1.26849605293939\n"
     ]
    }
   ],
   "source": [
    "prob_c = [sum(prob_s0_x)/ len(prob_s0_x), sum(prob_s1_x)/ len(prob_s1_x) ]\n",
    "mean = [sum([x[0] * x[1] for x in zip(prob_s0_x, data)]) / sum(prob_s0_x), sum([x[0] * x[1] for x in zip(prob_s1_x, data)]) / sum(prob_s1_x) ]\n",
    "var = [sum([x[0] * ((x[1] - mean[0])**2) for x in zip(prob_s0_x, data)]) / sum(prob_s0_x),\n",
    "       sum([x[0] * ((x[1] - mean[1])**2) for x in zip(prob_s1_x, data)]) / sum(prob_s1_x)]\n",
    "\n",
    "\n",
    "print(\"P(S_1) = \" + str(prob_c[0]) + \",  P(S_2) = \" + str(prob_c[1]))\n",
    "print(\"mean_1 = \" + str(mean[0]) + \",  mean_2 = \" + str(mean[1]))\n",
    "print(\"var_1 = \" + str(var[0]) + \",  var_2 = \" + str(var[1]))"
   ]
  },
  {
   "cell_type": "markdown",
   "metadata": {},
   "source": [
    "the mean values are again kind of close but the probability values are way worse than the kmeans approach"
   ]
  },
  {
   "cell_type": "markdown",
   "metadata": {},
   "source": [
    "g) Update `P(S_j | X_i)`. Comment on any differences or lack thereof you observe."
   ]
  },
  {
   "cell_type": "code",
   "execution_count": 18,
   "metadata": {},
   "outputs": [
    {
     "name": "stdout",
     "output_type": "stream",
     "text": [
      "8.007933198752372\n",
      "Probability of coming from S_0 = 8.335361161051046e-54\n",
      "Probability of coming from S_1 = 1.0\n",
      "\n",
      "4.513929484327213\n",
      "Probability of coming from S_0 = 0.9644880260086859\n",
      "Probability of coming from S_1 = 0.035511973991314144\n",
      "\n",
      "8.102050824639907\n",
      "Probability of coming from S_0 = 1.5303650325535584e-56\n",
      "Probability of coming from S_1 = 1.0\n",
      "\n",
      "8.799415015637624\n",
      "Probability of coming from S_0 = 6.909970982566903e-79\n",
      "Probability of coming from S_1 = 1.0\n",
      "\n",
      "9.731644066493903\n",
      "Probability of coming from S_0 = 1.843794644481875e-114\n",
      "Probability of coming from S_1 = 1.0\n",
      "\n",
      "5.7182896506552305\n",
      "Probability of coming from S_0 = 9.891987373241853e-08\n",
      "Probability of coming from S_1 = 0.9999999010801263\n",
      "\n",
      "5.454846839996273\n",
      "Probability of coming from S_0 = 5.910800239660102e-05\n",
      "Probability of coming from S_1 = 0.9999408919976034\n",
      "\n",
      "4.247330014926426\n",
      "Probability of coming from S_0 = 0.9854175609395603\n",
      "Probability of coming from S_1 = 0.014582439060439552\n",
      "\n",
      "7.713866038681299\n",
      "Probability of coming from S_0 = 1.0998775403010565e-45\n",
      "Probability of coming from S_1 = 1.0\n",
      "\n",
      "8.390433670435346\n",
      "Probability of coming from S_0 = 2.43795477014101e-65\n",
      "Probability of coming from S_1 = 1.0\n",
      "\n",
      "7.9393048460579685\n",
      "Probability of coming from S_0 = 7.483727667740794e-52\n",
      "Probability of coming from S_1 = 1.0\n",
      "\n",
      "4.645290793788522\n",
      "Probability of coming from S_0 = 0.9168830075021145\n",
      "Probability of coming from S_1 = 0.0831169924978855\n",
      "\n",
      "7.637388975076803\n",
      "Probability of coming from S_0 = 1.1138220224139682e-43\n",
      "Probability of coming from S_1 = 1.0\n",
      "\n",
      "3.9430787911063367\n",
      "Probability of coming from S_0 = 0.9770729420412273\n",
      "Probability of coming from S_1 = 0.02292705795877275\n",
      "\n",
      "7.888028910981008\n",
      "Probability of coming from S_0 = 2.0434975799448092e-50\n",
      "Probability of coming from S_1 = 1.0\n",
      "\n",
      "7.416841194481262\n",
      "Probability of coming from S_0 = 3.840314063628944e-38\n",
      "Probability of coming from S_1 = 1.0\n",
      "\n",
      "6.89902772856488\n",
      "Probability of coming from S_0 = 1.4140570017799232e-26\n",
      "Probability of coming from S_1 = 1.0\n",
      "\n",
      "8.523842384120668\n",
      "Probability of coming from S_0 = 1.276016827923337e-69\n",
      "Probability of coming from S_1 = 1.0\n",
      "\n",
      "6.952464923466243\n",
      "Probability of coming from S_0 = 1.1220817316892031e-27\n",
      "Probability of coming from S_1 = 1.0\n",
      "\n",
      "3.657563663495817\n",
      "Probability of coming from S_0 = 0.8657785208495533\n",
      "Probability of coming from S_1 = 0.1342214791504467\n",
      "\n"
     ]
    }
   ],
   "source": [
    "prob_s0_x = []  # P(S_0 | X_i)\n",
    "prob_s1_x = []  # P(S_1 | X_i)\n",
    "\n",
    "for p in data:\n",
    "    pdf_i = []\n",
    "\n",
    "    for j in range(k):\n",
    "        # P(X_i | S_j)\n",
    "        pdf_i.append(norm.pdf(p, mean[j], var[j]))\n",
    "\n",
    "    # P(S_0 | X_i) = P(X_i | S_0)P(S_0) / P(X_i)\n",
    "    prob_s0_x_i = (pdf_i[0] * prob_c[0]) / (pdf_i[0] * prob_c[0] + pdf_i[1] * prob_c[1])\n",
    "    prob_s0_x.append(prob_s0_x_i)\n",
    "\n",
    "    # P(S_1 | X_i) = P(X_i | S_1)P(S_1) / P(X_i)\n",
    "    prob_s1_x_i = (pdf_i[1] * prob_c[1]) / (pdf_i[0] * prob_c[0] + pdf_i[1] * prob_c[1])\n",
    "    prob_s1_x.append(prob_s1_x_i)\n",
    "\n",
    "# Print updated posterior probabilities\n",
    "probs = zip(data, prob_s0_x, prob_s1_x)\n",
    "for p in probs:\n",
    "    print(p[0])\n",
    "    print(\"Probability of coming from S_0 = \" + str(p[1]))\n",
    "    print(\"Probability of coming from S_1 = \" + str(p[2]))\n",
    "    print()\n"
   ]
  },
  {
   "cell_type": "markdown",
   "metadata": {},
   "source": [
    "I can observe that some of the points' cluster allocations have changed now."
   ]
  },
  {
   "cell_type": "markdown",
   "metadata": {},
   "source": [
    "h) Use `P(S_j | X_i)` to create a hard assignment - label each point as belonging to a specific cluster (0 or 1)"
   ]
  },
  {
   "cell_type": "code",
   "execution_count": 19,
   "metadata": {},
   "outputs": [
    {
     "name": "stdout",
     "output_type": "stream",
     "text": [
      "Data point 0 belongs to Cluster 1\n",
      "Data point 1 belongs to Cluster 0\n",
      "Data point 2 belongs to Cluster 1\n",
      "Data point 3 belongs to Cluster 1\n",
      "Data point 4 belongs to Cluster 1\n",
      "Data point 5 belongs to Cluster 1\n",
      "Data point 6 belongs to Cluster 1\n",
      "Data point 7 belongs to Cluster 0\n",
      "Data point 8 belongs to Cluster 1\n",
      "Data point 9 belongs to Cluster 1\n",
      "Data point 10 belongs to Cluster 1\n",
      "Data point 11 belongs to Cluster 0\n",
      "Data point 12 belongs to Cluster 1\n",
      "Data point 13 belongs to Cluster 0\n",
      "Data point 14 belongs to Cluster 1\n",
      "Data point 15 belongs to Cluster 1\n",
      "Data point 16 belongs to Cluster 1\n",
      "Data point 17 belongs to Cluster 1\n",
      "Data point 18 belongs to Cluster 1\n",
      "Data point 19 belongs to Cluster 0\n"
     ]
    }
   ],
   "source": [
    "hard_assignments = []  # List to store hard cluster assignments\n",
    "\n",
    "for p_s0, p_s1 in zip(prob_s0_x, prob_s1_x):\n",
    "    if p_s0 > p_s1:\n",
    "        hard_assignments.append(0)  # Assign to cluster 0\n",
    "    else:\n",
    "        hard_assignments.append(1)  # Assign to cluster 1\n",
    "\n",
    "# Print the hard assignments\n",
    "for i, assignment in enumerate(hard_assignments):\n",
    "    print(f\"Data point {i} belongs to Cluster {assignment}\")\n"
   ]
  }
 ],
 "metadata": {
  "kernelspec": {
   "display_name": "Python 3",
   "language": "python",
   "name": "python3"
  },
  "language_info": {
   "codemirror_mode": {
    "name": "ipython",
    "version": 3
   },
   "file_extension": ".py",
   "mimetype": "text/x-python",
   "name": "python",
   "nbconvert_exporter": "python",
   "pygments_lexer": "ipython3",
   "version": "3.11.5"
  },
  "orig_nbformat": 4,
  "vscode": {
   "interpreter": {
    "hash": "e7370f93d1d0cde622a1f8e1c04877d8463912d04d973331ad4851f04de6915a"
   }
  }
 },
 "nbformat": 4,
 "nbformat_minor": 2
}
